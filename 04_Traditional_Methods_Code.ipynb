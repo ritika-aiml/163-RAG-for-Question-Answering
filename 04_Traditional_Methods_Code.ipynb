{
 "cells": [
  {
   "cell_type": "markdown",
   "id": "aeac3a9c-bebf-4341-90f2-a5bfb293c4f4",
   "metadata": {},
   "source": [
    "# Implementation using Traditional Methods\n",
    "\n",
    "\\\n",
    "Write code implementing the traditional methods\n",
    "\n",
    "- Implement the baseline method(s)\n",
    "\n",
    "- Generate evaluation metrics and discuss results\n"
   ]
  },
  {
   "cell_type": "code",
   "execution_count": null,
   "id": "c1dd9277-20f8-469e-9d08-84f822447c13",
   "metadata": {},
   "outputs": [],
   "source": []
  },
  {
   "cell_type": "code",
   "execution_count": null,
   "id": "9d35544a-522e-43e9-be20-23b56a67a590",
   "metadata": {},
   "outputs": [],
   "source": []
  }
 ],
 "metadata": {
  "kernelspec": {
   "display_name": "Python 3 (ipykernel)",
   "language": "python",
   "name": "python3"
  },
  "language_info": {
   "codemirror_mode": {
    "name": "ipython",
    "version": 3
   },
   "file_extension": ".py",
   "mimetype": "text/x-python",
   "name": "python",
   "nbconvert_exporter": "python",
   "pygments_lexer": "ipython3",
   "version": "3.10.11"
  }
 },
 "nbformat": 4,
 "nbformat_minor": 5
}
