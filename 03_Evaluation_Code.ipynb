{
 "cells": [
  {
   "cell_type": "markdown",
   "id": "f4357581-c0e0-4fc3-8371-3e0f7150d283",
   "metadata": {},
   "source": [
    "# Evaluation Code\n",
    "\n",
    "\\\n",
    "Write the code for evaluation using some dummy data"
   ]
  },
  {
   "cell_type": "markdown",
   "id": "ec6028ff-49c0-401a-a298-aed49b3fd638",
   "metadata": {},
   "source": []
  }
 ],
 "metadata": {
  "kernelspec": {
   "display_name": "Python 3 (ipykernel)",
   "language": "python",
   "name": "python3"
  },
  "language_info": {
   "codemirror_mode": {
    "name": "ipython",
    "version": 3
   },
   "file_extension": ".py",
   "mimetype": "text/x-python",
   "name": "python",
   "nbconvert_exporter": "python",
   "pygments_lexer": "ipython3",
   "version": "3.10.11"
  }
 },
 "nbformat": 4,
 "nbformat_minor": 5
}
