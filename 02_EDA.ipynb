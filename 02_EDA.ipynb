{
 "cells": [
  {
   "cell_type": "markdown",
   "id": "1ab543a4-b80e-4e3c-bd9c-2f4b4024b044",
   "metadata": {},
   "source": [
    "---\n",
    "title: Exploratory Data Analysis\n",
    "----\n",
    "\n",
    "```{tip}\n",
    "In this notebook you will do the following: \n",
    "- Data Description\n",
    "   - Data characterisitcs (streaming data, one time data, easy/difficult to procure, etc)\n",
    "   - Issues with data (data quality, class distribution, outliers, etc.)\n",
    "   - Exploratory Data Analysis (EDA)\n",
    "- Cleanup method(s) you will use\n",
    "   - How will the clean-up work on test, validate set \n",
    "   - Spell-out any assumptions that you make\n",
    "- Data transformations and Preparation\n",
    "   - Feature generation, Feature encoding\n",
    "   - Train/Val/Test split and Batch generations\n",
    "\n",
    "```"
   ]
  },
  {
   "cell_type": "code",
   "execution_count": 1,
   "id": "fa21d07a-fd72-44e7-84ee-dfce4816c9c5",
   "metadata": {},
   "outputs": [],
   "source": [
    "import json, codecs\n",
    "from datetime import datetime"
   ]
  },
  {
   "cell_type": "markdown",
   "id": "c851096b-9887-4961-b0ef-74eb55ed65fb",
   "metadata": {},
   "source": [
    "\n",
    "\n",
    ":::{pull-quote}\n",
    "Use Google Drive to host the data\n",
    ":::\n",
    "  - For each project, create a folder on google drive.\n",
    "  - Inside the folder create a folder named `data/` to store the data\n",
    "    - Make sure that `data/` is included in `.gitignore` file so that you do not accidently upload it to github\n",
    "  - Similarly create a folder named `images/`. Okay to upload images to github\n"
   ]
  },
  {
   "cell_type": "code",
   "execution_count": 2,
   "id": "73a330a7-106e-4b76-8b32-27468db57bba",
   "metadata": {},
   "outputs": [
    {
     "name": "stdout",
     "output_type": "stream",
     "text": [
      "Hello World! Let's create some wonderful projects\n"
     ]
    }
   ],
   "source": [
    "print(\"Hello World! Let's create some wonderful projects\")"
   ]
  },
  {
   "cell_type": "code",
   "execution_count": null,
   "id": "dc7171e3-edec-4186-860f-7483d115b1eb",
   "metadata": {},
   "outputs": [],
   "source": []
  }
 ],
 "metadata": {
  "kernelspec": {
   "display_name": "Python 3 (ipykernel)",
   "language": "python",
   "name": "python3"
  },
  "language_info": {
   "codemirror_mode": {
    "name": "ipython",
    "version": 3
   },
   "file_extension": ".py",
   "mimetype": "text/x-python",
   "name": "python",
   "nbconvert_exporter": "python",
   "pygments_lexer": "ipython3",
   "version": "3.10.11"
  }
 },
 "nbformat": 4,
 "nbformat_minor": 5
}
