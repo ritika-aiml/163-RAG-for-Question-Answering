{
 "cells": [
  {
   "cell_type": "markdown",
   "id": "2e121619-3a1a-4434-9019-32be1b4ee331",
   "metadata": {},
   "source": [
    "# Implementation using Deep Learning Methods\n",
    "\n",
    "\\\n",
    "Implement the Deep Learning method(s), generate evalution metrics, discuss results"
   ]
  }
 ],
 "metadata": {
  "kernelspec": {
   "display_name": "Python 3 (ipykernel)",
   "language": "python",
   "name": "python3"
  },
  "language_info": {
   "codemirror_mode": {
    "name": "ipython",
    "version": 3
   },
   "file_extension": ".py",
   "mimetype": "text/x-python",
   "name": "python",
   "nbconvert_exporter": "python",
   "pygments_lexer": "ipython3",
   "version": "3.10.11"
  }
 },
 "nbformat": 4,
 "nbformat_minor": 5
}
